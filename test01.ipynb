{
 "cells": [
  {
   "cell_type": "markdown",
   "metadata": {},
   "source": [
    "Codetree Python Ch1"
   ]
  },
  {
   "cell_type": "markdown",
   "metadata": {},
   "source": [
    "1. print() 함수는 자동으로 줄바꿈을 포함한다."
   ]
  },
  {
   "cell_type": "code",
   "execution_count": 3,
   "metadata": {},
   "outputs": [
    {
     "name": "stdout",
     "output_type": "stream",
     "text": [
      "First Line\n",
      "Second Line \n",
      "\n",
      "Third Line\n"
     ]
    }
   ],
   "source": [
    "print('First Line') # 자동으로 줄이 바뀐다\n",
    "print('Second Line \\n') # \\n 을 입력했기에, 줄이 2번 바뀐다.\n",
    "print('Third Line')"
   ]
  },
  {
   "cell_type": "markdown",
   "metadata": {},
   "source": [
    "2. 수학에서 = 는 등호이지만, 파이썬에선 대입 연산자이다. <br>\n",
    "변수, 특정 메모리 주소와 공간에<br> \n",
    "어떤 값을 대입, 저장한다는 의미이다.<br>"
   ]
  },
  {
   "cell_type": "code",
   "execution_count": null,
   "metadata": {},
   "outputs": [],
   "source": []
  }
 ],
 "metadata": {
  "kernelspec": {
   "display_name": "base",
   "language": "python",
   "name": "python3"
  },
  "language_info": {
   "codemirror_mode": {
    "name": "ipython",
    "version": 3
   },
   "file_extension": ".py",
   "mimetype": "text/x-python",
   "name": "python",
   "nbconvert_exporter": "python",
   "pygments_lexer": "ipython3",
   "version": "3.12.7"
  }
 },
 "nbformat": 4,
 "nbformat_minor": 2
}
